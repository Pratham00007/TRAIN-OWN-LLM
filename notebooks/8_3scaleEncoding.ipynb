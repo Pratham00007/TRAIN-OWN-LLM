{
 "cells": [
  {
   "cell_type": "markdown",
   "id": "763791e1",
   "metadata": {},
   "source": [
    "# Encoding the sequence of text"
   ]
  },
  {
   "cell_type": "code",
   "execution_count": null,
   "id": "a9632923",
   "metadata": {},
   "outputs": [],
   "source": [
    "import sys\n",
    "sys.path.append('..')"
   ]
  },
  {
   "cell_type": "code",
   "execution_count": null,
   "id": "d27b9d4c",
   "metadata": {},
   "outputs": [],
   "source": [
    "from minbpe import RegexTokenizer\n",
    "tokenizer=RegexTokenizer()\n",
    "tokenizer.load(model_file=\"../output/tokenizer/darija_tokenizer.model\")"
   ]
  },
  {
   "cell_type": "markdown",
   "id": "917bc908",
   "metadata": {},
   "source": [
    "Encode the data in batches otherwise you will get OOM (Out Of Memory) error. Experiment with the `batch_size` value until you find the want that uses the most of your RAM without crashing VSCode."
   ]
  },
  {
   "cell_type": "code",
   "execution_count": null,
   "id": "b089e79f",
   "metadata": {},
   "outputs": [],
   "source": [
    "encoded_text_sequence = []\n",
    "batch_size = 100_000_000\n",
    "file_path = \"../data/AtlaSetCombined.txt\"\n",
    "\n",
    "with open(file_path, \"r\") as f:\n",
    "    while True:\n",
    "        chunk = f.read(batch_size)\n",
    "        if not chunk:\n",
    "            break\n",
    "        batch_tokens = tokenizer.encode(chunk)\n",
    "        encoded_text_sequence.extend(batch_tokens)\n",
    "        print(f\"Processed {len(encoded_text_sequence)} tokens so far.\")\n",
    "\n",
    "print(f\"Total tokens: {len(encoded_text_sequence)}\")"
   ]
  },
  {
   "cell_type": "code",
   "execution_count": null,
   "id": "4c9f4080",
   "metadata": {},
   "outputs": [],
   "source": [
    "import numpy as np\n",
    "\n",
    "output_path = \"../output/encoded_data/encoded_atlaset.npy\"\n",
    "np.save(output_path, np.array(encoded_text_sequence, dtype=np.int64))\n",
    "\n",
    "# Free up memory\n",
    "del encoded_text_sequence"
   ]
  }
 ],
 "metadata": {
  "kernelspec": {
   "display_name": "Python 3",
   "language": "python",
   "name": "python3"
  },
  "language_info": {
   "name": "python",
   "version": "3.12.4"
  }
 },
 "nbformat": 4,
 "nbformat_minor": 5
}
