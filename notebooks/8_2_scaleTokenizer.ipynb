{
 "cells": [
  {
   "cell_type": "markdown",
   "id": "6db34b0c",
   "metadata": {},
   "source": [
    "# Load the Sequence"
   ]
  },
  {
   "cell_type": "markdown",
   "id": "e25bc534",
   "metadata": {},
   "source": [
    "This time, we'll load a sample from the text sequence instead of the entire dataset to prevent excessive RAM usage. If the RAM is full, the BPE algorithm won't function properly due to a lack of available memory.  \n",
    "\n",
    "Adjust the `number_of_characters_to_read` value to find the optimal setting for your system."
   ]
  },
  {
   "cell_type": "code",
   "execution_count": null,
   "id": "8b6300c5",
   "metadata": {},
   "outputs": [],
   "source": [
    "with open(\"../data/AtlaSetCombined.txt\", \"r\") as f:\n",
    "    number_ofchracter_to_read = 10_000_000\n",
    "    text_sequence = ff.read(number_ofchracter_to_read)\n",
    "\n",
    "len(text_sequence)"
   ]
  },
  {
   "cell_type": "markdown",
   "id": "ac5b92bc",
   "metadata": {},
   "source": [
    "# BPE algorithm"
   ]
  },
  {
   "cell_type": "code",
   "execution_count": null,
   "id": "c5c5ebf0",
   "metadata": {},
   "outputs": [],
   "source": [
    "import sys\n",
    "sys.path.append('..')"
   ]
  },
  {
   "cell_type": "code",
   "execution_count": null,
   "id": "c8a81854",
   "metadata": {},
   "outputs": [],
   "source": [
    "import sys\n",
    "sys.path.append('..')"
   ]
  },
  {
   "cell_type": "code",
   "execution_count": null,
   "id": "6b925dea",
   "metadata": {},
   "outputs": [],
   "source": [
    "from minbpe import RegexTokenizer\n",
    "\n",
    "tokenizer=RegexTokenizer()\n",
    "tokenizer.train(text_sequence,vocab_size=16_384)"
   ]
  },
  {
   "cell_type": "code",
   "execution_count": null,
   "id": "0e959175",
   "metadata": {},
   "outputs": [],
   "source": [
    "vocab=tokenizer.vocab\n",
    "vocab"
   ]
  },
  {
   "cell_type": "code",
   "execution_count": null,
   "id": "50808c38",
   "metadata": {},
   "outputs": [],
   "source": [
    "tokenizer.encode(\"Salam labes\")"
   ]
  },
  {
   "cell_type": "code",
   "execution_count": null,
   "id": "f7b62c1a",
   "metadata": {},
   "outputs": [],
   "source": [
    "tokenizer.decode([83, 1813, 3363, 32, 7312, 3770, 115])"
   ]
  },
  {
   "cell_type": "code",
   "execution_count": null,
   "id": "aa5a7927",
   "metadata": {},
   "outputs": [],
   "source": [
    "max_vocab_id = list(tokenizer.vocab.keys())[-1]\n",
    "tokenizer.special_tokens = {\n",
    "    \"<|startoftext|>\": max_vocab_id + 1,\n",
    "    \"<|separator|>\": max_vocab_id + 2,\n",
    "    \"<|endoftext|>\": max_vocab_id + 3,\n",
    "    \"<|unk|>\": max_vocab_id + 4,\n",
    "    \"<|padding|>\": max_vocab_id + 5\n",
    "}"
   ]
  },
  {
   "cell_type": "code",
   "execution_count": null,
   "id": "5af4828a",
   "metadata": {},
   "outputs": [],
   "source": [
    "tokenizer.save(file_prefix=\"../output/tokenizer/darija_tokenizer\")"
   ]
  }
 ],
 "metadata": {
  "kernelspec": {
   "display_name": "Python 3",
   "language": "python",
   "name": "python3"
  },
  "language_info": {
   "name": "python",
   "version": "3.12.4"
  }
 },
 "nbformat": 4,
 "nbformat_minor": 5
}
