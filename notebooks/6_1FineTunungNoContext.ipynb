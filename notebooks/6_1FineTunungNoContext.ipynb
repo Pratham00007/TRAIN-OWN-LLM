{
 "cells": [
  {
   "cell_type": "markdown",
   "id": "325046f4",
   "metadata": {},
   "source": [
    "# Preapare the data"
   ]
  },
  {
   "cell_type": "markdown",
   "id": "33db4a23",
   "metadata": {},
   "source": [
    "### 1. Load the fine-tunung data"
   ]
  },
  {
   "cell_type": "code",
   "execution_count": null,
   "id": "474ed939",
   "metadata": {
    "vscode": {
     "languageId": "plaintext"
    }
   },
   "outputs": [],
   "source": [
    "import json \n",
    "file_path=\"..\""
   ]
  }
 ],
 "metadata": {
  "language_info": {
   "name": "python"
  }
 },
 "nbformat": 4,
 "nbformat_minor": 5
}
